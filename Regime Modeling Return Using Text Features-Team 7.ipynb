{
 "cells": [
  {
   "cell_type": "code",
   "execution_count": null,
   "metadata": {},
   "outputs": [],
   "source": [
    "%pylab inline\n",
    "import psycopg2\n",
    "from psycopg2.extras import RealDictCursor\n",
    "import pandas as pd\n",
    "import numpy as np\n",
    "from matplotlib import pyplot\n",
    "import matplotlib.pyplot as plt\n",
    "import seaborn as sns\n",
    "from sklearn.model_selection import train_test_split\n",
    "from sklearn.linear_model import LogisticRegression\n",
    "from sklearn.metrics import confusion_matrix, classification_report\n",
    "from sklearn.metrics import accuracy_score\n",
    "from sklearn.metrics import precision_score\n",
    "from sklearn.metrics import recall_score\n",
    "from sklearn.metrics import f1_score\n",
    "from sklearn.metrics import roc_curve\n",
    "from sklearn.metrics import roc_auc_score\n",
    "from sklearn.linear_model import LogisticRegressionCV\n",
    "from scipy.stats import randint\n",
    "from sklearn.tree import DecisionTreeClassifier\n",
    "from sklearn.model_selection import RandomizedSearchCV\n",
    "from scipy.stats import randint\n",
    "from sklearn.ensemble import RandomForestClassifier\n",
    "from sklearn import linear_model, decomposition\n",
    "from sklearn.pipeline import Pipeline\n",
    "from sklearn.model_selection import GridSearchCV\n",
    "from sklearn.preprocessing import scale\n",
    "from sklearn.decomposition import PCA\n",
    "from sklearn.model_selection import cross_val_predict\n",
    "from sklearn.metrics import mean_squared_error, r2_score, f1_score, precision_score, recall_score, roc_curve, auc, accuracy_score\n",
    "from sklearn import model_selection\n",
    "from sklearn import tree"
   ]
  },
  {
   "cell_type": "markdown",
   "metadata": {},
   "source": [
    "### 1.Read regime data & text classifier"
   ]
  },
  {
   "cell_type": "code",
   "execution_count": null,
   "metadata": {},
   "outputs": [],
   "source": [
    "conn = psycopg2.connect(host=\"qc-aurora.coh4objazhte.us-east-1.rds.amazonaws.com\", \n",
    "                        database='qcdb', user='Capstone_User', password=\"capstoneFall2019!\", port=\"5432\")\n",
    "cur = conn.cursor(cursor_factory=RealDictCursor) \n",
    "cur.execute('SELECT * FROM text_data.classifier_hits_w_columnname limit 1000')\n",
    "rows = cur.fetchall()\n",
    "ch = pd.DataFrame(rows)"
   ]
  },
  {
   "cell_type": "code",
   "execution_count": null,
   "metadata": {},
   "outputs": [],
   "source": [
    "# extract text classifier data by aggregrating by week\n",
    "# first create year from date, and create week from date, then aggregrate by week\n",
    "conn = psycopg2.connect(host=\"qc-aurora.coh4objazhte.us-east-1.rds.amazonaws.com\", database='qcdb', user='Capstone_User', password=\"capstoneFall2019!\", port=\"5432\")\n",
    "cur = conn.cursor(cursor_factory=RealDictCursor) \n",
    "cur.execute('''SELECT extract(year from date) as year,\n",
    "extract(week from date) as Week,\n",
    "sum(accounting_changes) as accounting_changes,\n",
    "sum(accounting_red_flags) as accounting_red_flags,\n",
    "sum(alternative_technology_development) as alternative_technology_development,\n",
    "sum(assembly_bottleneck) as assembly_bottleneck,\n",
    "sum(available_seat_km) as available_seat_km,\n",
    "sum(bad_delivery_quality) as bad_delivery_quality,\n",
    "sum(capacity_decrease) as capacity_decrease,\n",
    "sum(capacity_increase) as capacity_increase,\n",
    "sum(capacity_shortage) as capacity_shortage,\n",
    "sum(capital_reinvestment) as capital_reinvestment,\n",
    "sum(cash_flow_ltip_drivers) as cash_flow_ltip_drivers,\n",
    "sum(co_market_interest_neg) as co_market_interest_neg,\n",
    "sum(co_market_interest_pos) as co_market_interest_pos,\n",
    "sum(competitive_environment) as competitive_environment,\n",
    "sum(component_shortage) as component_shortage,\n",
    "sum(contingency_planning) as contingency_planning,\n",
    "sum(copper_price) as copper_price,\n",
    "sum(copper_price_decrease) as copper_price_decrease,\n",
    "sum(copper_price_increase) as copper_price_increase,\n",
    "sum(corporate_governance) as corporate_governance,\n",
    "sum(credit_profile) as credit_profile,\n",
    "sum(crisis_management) as crisis_management,\n",
    "sum(cyber_attack) as cyber_attack,\n",
    "sum(debt_delinquency) as debt_delinquency,\n",
    "sum(decreasing_competition) as decreasing_competition,\n",
    "sum(demographic_strategy_change) as demographic_strategy_change,\n",
    "sum(disruption_advantages) as disruption_advantages,\n",
    "sum(earthquake) as earthquake,\n",
    "sum(economy_neg_currency_weak) as economy_neg_currency_weak,\n",
    "sum(economy_neg_economic_comparison) as economy_neg_economic_comparison,\n",
    "sum(economy_neg_economy_turbulent) as economy_neg_economy_turbulent,\n",
    "sum(economy_neg_economy_weak) as economy_neg_economy_weak,\n",
    "sum(economy_neg_exchange_rate_bad) as economy_neg_exchange_rate_bad,\n",
    "sum(economy_neg_exports_decrease) as economy_neg_exports_decrease,\n",
    "sum(economy_neg_gdp_trend) as economy_neg_gdp_trend,\n",
    "sum(economy_neg_inflation) as economy_neg_inflation,\n",
    "sum(economy_neg_interest_rate_decrease) as economy_neg_interest_rate_decrease,\n",
    "sum(economy_neg_interest_rate_increase) as economy_neg_interest_rate_increase,\n",
    "sum(economy_neg_macroeconomic) as economy_neg_macroeconomic,\n",
    "sum(economy_neg_shortage) as economy_neg_shortage,\n",
    "sum(economy_neg_trade_relations_poor) as economy_neg_trade_relations_poor,\n",
    "sum(economy_neg_unemployment_rate) as economy_neg_unemployment_rate,\n",
    "sum(economy_neg_yield_curve_inverting) as economy_neg_yield_curve_inverting,\n",
    "sum(economy_pos_currency_strong) as economy_pos_currency_strong,\n",
    "sum(economy_pos_economic_comparison) as economy_pos_economic_comparison,\n",
    "sum(economy_pos_economy_good) as economy_pos_economy_good,\n",
    "sum(economy_pos_exchange_rate_good) as economy_pos_exchange_rate_good,\n",
    "sum(economy_pos_exports_increase) as economy_pos_exports_increase,\n",
    "sum(economy_pos_gdp_trend) as economy_pos_gdp_trend,\n",
    "sum(economy_pos_imports_increase) as economy_pos_imports_increase,\n",
    "sum(economy_pos_interest_rate_decrease) as economy_pos_interest_rate_decrease,\n",
    "sum(economy_pos_interest_rate_increase) as economy_pos_interest_rate_increase,\n",
    "sum(economy_pos_macroeconomic) as economy_pos_macroeconomic,\n",
    "sum(economy_pos_plentiful) as economy_pos_plentiful,\n",
    "sum(economy_pos_tax) as economy_pos_tax,\n",
    "sum(economy_pos_trade_relations) as economy_pos_trade_relations,\n",
    "sum(economy_pos_unemployment_rate) as economy_pos_unemployment_rate,\n",
    "sum(economy_pos_yield_curve_steep) as economy_pos_yield_curve_steep,\n",
    "sum(engagement_trend) as engagement_trend,\n",
    "sum(epidemic) as epidemic,\n",
    "sum(eps_ltip_drivers) as eps_ltip_drivers,\n",
    "sum(equipment_failure) as equipment_failure,\n",
    "sum(esg_ltip_drivers) as esg_ltip_drivers,\n",
    "sum(facility_fire) as facility_fire,\n",
    "sum(finance_neg_accounting_changes) as finance_neg_accounting_changes,\n",
    "sum(finance_neg_accounting_error_restatements) as finance_neg_accounting_error_restatements,\n",
    "sum(finance_neg_accounting_red_flags) as finance_neg_accounting_red_flags,\n",
    "sum(finance_neg_balance_sheet_weak) as finance_neg_balance_sheet_weak,\n",
    "sum(finance_neg_bankruptcy) as finance_neg_bankruptcy,\n",
    "sum(finance_neg_debt_delinquency) as finance_neg_debt_delinquency,\n",
    "sum(finance_neg_difficulty_increase) as finance_neg_difficulty_increase,\n",
    "sum(finance_neg_efficiency_low) as finance_neg_efficiency_low,\n",
    "sum(finance_neg_expense_mgmt) as finance_neg_expense_mgmt,\n",
    "sum(finance_neg_finance_based_risks) as finance_neg_finance_based_risks,\n",
    "sum(finance_neg_free_cash_flow) as finance_neg_free_cash_flow,\n",
    "sum(finance_neg_liquidity) as finance_neg_liquidity,\n",
    "sum(finance_neg_loss) as finance_neg_loss,\n",
    "sum(finance_neg_low_productivity) as finance_neg_low_productivity,\n",
    "sum(finance_neg_negative_signal) as finance_neg_negative_signal,\n",
    "sum(finance_neg_performance_weak) as finance_neg_performance_weak,\n",
    "sum(finance_neg_profit_decrease) as finance_neg_profit_decrease,\n",
    "sum(finance_neg_revenue_down) as finance_neg_revenue_down,\n",
    "sum(finance_neg_underperform) as finance_neg_underperform,\n",
    "sum(finance_pos_confident_performance) as finance_pos_confident_performance,\n",
    "sum(finance_pos_credit_profile_improve) as finance_pos_credit_profile_improve,\n",
    "sum(finance_pos_earnings_forecast) as finance_pos_earnings_forecast,\n",
    "sum(finance_pos_earnings_revision_upward) as finance_pos_earnings_revision_upward,\n",
    "sum(finance_pos_efficiency_high) as finance_pos_efficiency_high,\n",
    "sum(finance_pos_expense_mgmt) as finance_pos_expense_mgmt,\n",
    "sum(finance_pos_free_cash_flow) as finance_pos_free_cash_flow,\n",
    "sum(finance_pos_improve_outcome) as finance_pos_improve_outcome,\n",
    "sum(finance_pos_liquidity) as finance_pos_liquidity,\n",
    "sum(finance_pos_outperform) as finance_pos_outperform,\n",
    "sum(finance_pos_performance_goals) as finance_pos_performance_goals,\n",
    "sum(finance_pos_performance_strong) as finance_pos_performance_strong,\n",
    "sum(finance_pos_profit_increase) as finance_pos_profit_increase,\n",
    "sum(finance_pos_revenue_up) as finance_pos_revenue_up,\n",
    "sum(finance_pos_sales_strong) as finance_pos_sales_strong,\n",
    "sum(finance_pos_shareholder_value) as finance_pos_shareholder_value,\n",
    "sum(floods) as floods,\n",
    "sum(free_cash_flow) as free_cash_flow,\n",
    "sum(general_ltip) as general_ltip,\n",
    "sum(goal_to_increase_leverage) as goal_to_increase_leverage,\n",
    "sum(goal_to_reduce_leverage) as goal_to_reduce_leverage,\n",
    "sum(good_delivery_quality) as good_delivery_quality,\n",
    "sum(government_dissatisfaction) as government_dissatisfaction,\n",
    "sum(higher_prices_bool) as higher_prices_bool,\n",
    "sum(imminent_industry_upturn) as imminent_industry_upturn,\n",
    "sum(improve_credit_profile) as improve_credit_profile,\n",
    "sum(increasing_competition) as increasing_competition,\n",
    "sum(industrial_accident) as industrial_accident,\n",
    "sum(industry_downturn) as industry_downturn,\n",
    "sum(industry_neg_accident) as industry_neg_accident,\n",
    "sum(industry_neg_commodity_shortage) as industry_neg_commodity_shortage,\n",
    "sum(industry_neg_competition_increase) as industry_neg_competition_increase,\n",
    "sum(industry_neg_crime_high) as industry_neg_crime_high,\n",
    "sum(industry_neg_demand_unstable) as industry_neg_demand_unstable,\n",
    "sum(industry_neg_demand_weak) as industry_neg_demand_weak,\n",
    "sum(industry_neg_downgrade) as industry_neg_downgrade,\n",
    "sum(industry_neg_earthquake) as industry_neg_earthquake,\n",
    "sum(industry_neg_famine) as industry_neg_famine,\n",
    "sum(industry_neg_floods) as industry_neg_floods,\n",
    "sum(industry_neg_governance_risks) as industry_neg_governance_risks,\n",
    "sum(industry_neg_government_reaction) as industry_neg_government_reaction,\n",
    "sum(industry_neg_headwinds) as industry_neg_headwinds,\n",
    "sum(industry_neg_interest_rate_decrease) as industry_neg_interest_rate_decrease,\n",
    "sum(industry_neg_interest_rate_increase) as industry_neg_interest_rate_increase,\n",
    "sum(industry_neg_margin_larger) as industry_neg_margin_larger,\n",
    "sum(industry_neg_market_based_risks) as industry_neg_market_based_risks,\n",
    "sum(industry_neg_market_share_decline) as industry_neg_market_share_decline,\n",
    "sum(industry_neg_momentum_negative) as industry_neg_momentum_negative,\n",
    "sum(industry_neg_patent_expiration) as industry_neg_patent_expiration,\n",
    "sum(industry_neg_political_change) as industry_neg_political_change,\n",
    "sum(industry_neg_price_decrease) as industry_neg_price_decrease,\n",
    "sum(industry_neg_price_increase) as industry_neg_price_increase,\n",
    "sum(industry_neg_product_obsolescence) as industry_neg_product_obsolescence,\n",
    "sum(industry_neg_regulatory_risks) as industry_neg_regulatory_risks,\n",
    "sum(industry_neg_socio_political_risks) as industry_neg_socio_political_risks,\n",
    "sum(industry_neg_supply_decrease) as industry_neg_supply_decrease,\n",
    "sum(industry_neg_technology_risks) as industry_neg_technology_risks,\n",
    "sum(industry_neg_terrorism) as industry_neg_terrorism,\n",
    "sum(industry_neg_trade_restrictions) as industry_neg_trade_restrictions,\n",
    "sum(industry_neg_trade_war) as industry_neg_trade_war,\n",
    "sum(industry_neg_unemployment_rate_bad) as industry_neg_unemployment_rate_bad,\n",
    "sum(industry_pos_commodity_surplus) as industry_pos_commodity_surplus,\n",
    "sum(industry_pos_competition_decrease) as industry_pos_competition_decrease,\n",
    "sum(industry_pos_crime_low) as industry_pos_crime_low,\n",
    "sum(industry_pos_demand_stabilization) as industry_pos_demand_stabilization,\n",
    "sum(industry_pos_demand_strong) as industry_pos_demand_strong,\n",
    "sum(industry_pos_general) as industry_pos_general,\n",
    "sum(industry_pos_government_reaction) as industry_pos_government_reaction,\n",
    "sum(industry_pos_interest_rate_decrease) as industry_pos_interest_rate_decrease,\n",
    "sum(industry_pos_interest_rate_increase) as industry_pos_interest_rate_increase,\n",
    "sum(industry_pos_margin_smaller) as industry_pos_margin_smaller,\n",
    "sum(industry_pos_market_share_growth) as industry_pos_market_share_growth,\n",
    "sum(industry_pos_market_share_stable) as industry_pos_market_share_stable,\n",
    "sum(industry_pos_momentum) as industry_pos_momentum,\n",
    "sum(industry_pos_patent_creation) as industry_pos_patent_creation,\n",
    "sum(industry_pos_political_change) as industry_pos_political_change,\n",
    "sum(industry_pos_price_decrease) as industry_pos_price_decrease,\n",
    "sum(industry_pos_price_increase) as industry_pos_price_increase,\n",
    "sum(industry_pos_prices_steady) as industry_pos_prices_steady,\n",
    "sum(industry_pos_products_better) as industry_pos_products_better,\n",
    "sum(industry_pos_supply_increase) as industry_pos_supply_increase,\n",
    "sum(industry_pos_tailwinds) as industry_pos_tailwinds,\n",
    "sum(industry_pos_technological_cooperation) as industry_pos_technological_cooperation,\n",
    "sum(industry_pos_unemployment_rate_good) as industry_pos_unemployment_rate_good,\n",
    "sum(industry_specific_ltip_drivers) as industry_specific_ltip_drivers,\n",
    "sum(information_leak) as information_leak,\n",
    "sum(insider_holdings) as insider_holdings,\n",
    "sum(labor_union_strike) as labor_union_strike,\n",
    "sum(lead_time_reduction) as lead_time_reduction,\n",
    "sum(leverage_goals) as leverage_goals,\n",
    "sum(long_term_strong_strategy) as long_term_strong_strategy,\n",
    "sum(long_term_weak_strategy) as long_term_weak_strategy,\n",
    "sum(lower_prices_bool) as lower_prices_bool,\n",
    "sum(management) as management,\n",
    "sum(management_aggressiveness) as management_aggressiveness,\n",
    "sum(management_buzz_growth) as management_buzz_growth,\n",
    "sum(management_buzz_kpi) as management_buzz_kpi,\n",
    "sum(management_buzz_opportunity) as management_buzz_opportunity,\n",
    "sum(management_buzz_stability) as management_buzz_stability,\n",
    "sum(management_buzz_strategy) as management_buzz_strategy,\n",
    "sum(management_defensiveness) as management_defensiveness,\n",
    "sum(management_demographic_strategy) as management_demographic_strategy,\n",
    "sum(management_growth_buzz) as management_growth_buzz,\n",
    "sum(management_guidance_unchanged) as management_guidance_unchanged,\n",
    "sum(management_kpi_buzz) as management_kpi_buzz,\n",
    "sum(management_neg_ceo_change) as management_neg_ceo_change,\n",
    "sum(management_neg_conflict_of_interest) as management_neg_conflict_of_interest,\n",
    "sum(management_neg_cyber_attack) as management_neg_cyber_attack,\n",
    "sum(management_neg_divestitures) as management_neg_divestitures,\n",
    "sum(management_neg_fraud) as management_neg_fraud,\n",
    "sum(management_neg_guidance) as management_neg_guidance,\n",
    "sum(management_neg_information_leak) as management_neg_information_leak,\n",
    "sum(management_neg_longterm_strategy) as management_neg_longterm_strategy,\n",
    "sum(management_neg_media_leak) as management_neg_media_leak,\n",
    "sum(management_neg_mgmt_change) as management_neg_mgmt_change,\n",
    "sum(management_neg_mgmt_price_shilling) as management_neg_mgmt_price_shilling,\n",
    "sum(management_neg_mgmt_risks) as management_neg_mgmt_risks,\n",
    "sum(management_neg_mgmt_sentiment) as management_neg_mgmt_sentiment,\n",
    "sum(management_neg_new_share_issuance) as management_neg_new_share_issuance,\n",
    "sum(management_neg_patent_disputes) as management_neg_patent_disputes,\n",
    "sum(management_neg_research_restrictions) as management_neg_research_restrictions,\n",
    "sum(management_neg_shortterm_strategy) as management_neg_shortterm_strategy,\n",
    "sum(management_opportunity_buzz) as management_opportunity_buzz,\n",
    "sum(management_pos_ceo_change) as management_pos_ceo_change,\n",
    "sum(management_pos_cfo_change) as management_pos_cfo_change,\n",
    "sum(management_pos_corporate_culture) as management_pos_corporate_culture,\n",
    "sum(management_pos_guidance) as management_pos_guidance,\n",
    "sum(management_pos_hedging_risk) as management_pos_hedging_risk,\n",
    "sum(management_pos_longterm_strategy) as management_pos_longterm_strategy,\n",
    "sum(management_pos_marketing_strategy) as management_pos_marketing_strategy,\n",
    "sum(management_pos_mergers_acquisitions) as management_pos_mergers_acquisitions,\n",
    "sum(management_pos_met_goals) as management_pos_met_goals,\n",
    "sum(management_pos_mgmt_change) as management_pos_mgmt_change,\n",
    "sum(management_pos_mgmt_sentiment) as management_pos_mgmt_sentiment,\n",
    "sum(management_pos_research_development) as management_pos_research_development,\n",
    "sum(management_pos_shortterm_strategy) as management_pos_shortterm_strategy,\n",
    "sum(management_price_shilling) as management_price_shilling,\n",
    "sum(management_regional_strategy) as management_regional_strategy,\n",
    "sum(management_stability_buzz) as management_stability_buzz,\n",
    "sum(management_strategy_buzz) as management_strategy_buzz,\n",
    "sum(market_responsive_inventory_strategy) as market_responsive_inventory_strategy,\n",
    "sum(market_responsive_supply_chain_goal) as market_responsive_supply_chain_goal,\n",
    "sum(marketing_strategy_change) as marketing_strategy_change,\n",
    "sum(monitoring_leading_indicators) as monitoring_leading_indicators,\n",
    "sum(negative_government_reaction) as negative_government_reaction,\n",
    "sum(negative_political_change) as negative_political_change,\n",
    "sum(operating_income_ltip_drivers) as operating_income_ltip_drivers,\n",
    "sum(operations_neg_assembly_bottleneck) as operations_neg_assembly_bottleneck,\n",
    "sum(operations_neg_capacity_decrease) as operations_neg_capacity_decrease,\n",
    "sum(operations_neg_capacity_shortage) as operations_neg_capacity_shortage,\n",
    "sum(operations_neg_component_shortage) as operations_neg_component_shortage,\n",
    "sum(operations_neg_delivery_quality) as operations_neg_delivery_quality,\n",
    "sum(operations_neg_equipment_failure) as operations_neg_equipment_failure,\n",
    "sum(operations_neg_industry_satisfaction) as operations_neg_industry_satisfaction,\n",
    "sum(operations_neg_low_consumer_demand) as operations_neg_low_consumer_demand,\n",
    "sum(operations_neg_plant_closure) as operations_neg_plant_closure,\n",
    "sum(operations_neg_power_outage) as operations_neg_power_outage,\n",
    "sum(operations_neg_product_failure) as operations_neg_product_failure,\n",
    "sum(operations_neg_product_recall) as operations_neg_product_recall,\n",
    "sum(operations_neg_product_satisfaction) as operations_neg_product_satisfaction,\n",
    "sum(operations_neg_production_freeze) as operations_neg_production_freeze,\n",
    "sum(operations_neg_stock_warehouse_concerns) as operations_neg_stock_warehouse_concerns,\n",
    "sum(operations_neg_transportation_disruption) as operations_neg_transportation_disruption,\n",
    "sum(operations_neg_union_strike) as operations_neg_union_strike,\n",
    "sum(operations_neg_work_stoppage) as operations_neg_work_stoppage,\n",
    "sum(operations_pos_alt_tech_dev) as operations_pos_alt_tech_dev,\n",
    "sum(operations_pos_capacity_increase) as operations_pos_capacity_increase,\n",
    "sum(operations_pos_consumer_demand) as operations_pos_consumer_demand,\n",
    "sum(operations_pos_contingency_planning) as operations_pos_contingency_planning,\n",
    "sum(operations_pos_crisis_management) as operations_pos_crisis_management,\n",
    "sum(operations_pos_delivery_quality) as operations_pos_delivery_quality,\n",
    "sum(operations_pos_disruption_advantages) as operations_pos_disruption_advantages,\n",
    "sum(operations_pos_efficiency) as operations_pos_efficiency,\n",
    "sum(operations_pos_industry_satisfaction) as operations_pos_industry_satisfaction,\n",
    "sum(operations_pos_lead_time_reduction) as operations_pos_lead_time_reduction,\n",
    "sum(operations_pos_market_responsive_goal) as operations_pos_market_responsive_goal,\n",
    "sum(operations_pos_market_responsive_inv_strategy) as operations_pos_market_responsive_inv_strategy,\n",
    "sum(operations_pos_monitor_leading_indicators) as operations_pos_monitor_leading_indicators,\n",
    "sum(operations_pos_opportunity_recognition) as operations_pos_opportunity_recognition,\n",
    "sum(operations_pos_orders_increase) as operations_pos_orders_increase,\n",
    "sum(operations_pos_organic_growth) as operations_pos_organic_growth,\n",
    "sum(operations_pos_plant_opening) as operations_pos_plant_opening,\n",
    "sum(operations_pos_process_efficient_goal) as operations_pos_process_efficient_goal,\n",
    "sum(operations_pos_process_effiicent_inv_strategy) as operations_pos_process_effiicent_inv_strategy,\n",
    "sum(operations_pos_product_innovation) as operations_pos_product_innovation,\n",
    "sum(operations_pos_product_satisfaction) as operations_pos_product_satisfaction,\n",
    "sum(operations_pos_resource_mobilization) as operations_pos_resource_mobilization,\n",
    "sum(operations_pos_third_party_recognition) as operations_pos_third_party_recognition,\n",
    "sum(opportunity_recognition) as opportunity_recognition,\n",
    "sum(passenger_load_factor_decrease) as passenger_load_factor_decrease,\n",
    "sum(passenger_load_factor_increase) as passenger_load_factor_increase,\n",
    "sum(patent_disputes) as patent_disputes,\n",
    "sum(plant_closure) as plant_closure,\n",
    "sum(plant_opening) as plant_opening,\n",
    "sum(positive_government_reaction) as positive_government_reaction,\n",
    "sum(positive_political_change) as positive_political_change,\n",
    "sum(power_outage) as power_outage,\n",
    "sum(price_decreases) as price_decreases,\n",
    "sum(price_increases) as price_increases,\n",
    "sum(process_efficient_inventory_strategy) as process_efficient_inventory_strategy,\n",
    "sum(process_efficient_supply_chain_goal) as process_efficient_supply_chain_goal,\n",
    "sum(product_cycle) as product_cycle,\n",
    "sum(product_failure) as product_failure,\n",
    "sum(product_obsolescence) as product_obsolescence,\n",
    "sum(product_recall) as product_recall,\n",
    "sum(production_freeze) as production_freeze,\n",
    "sum(research_restrictions) as research_restrictions,\n",
    "sum(resource_mobilization) as resource_mobilization,\n",
    "sum(revenue_ltip_drivers) as revenue_ltip_drivers,\n",
    "sum(short_term_strong_strategy) as short_term_strong_strategy,\n",
    "sum(short_term_weak_strategy) as short_term_weak_strategy,\n",
    "sum(strong_demand_bool) as strong_demand_bool,\n",
    "sum(strong_economy) as strong_economy,\n",
    "sum(strong_strategy_bool) as strong_strategy_bool,\n",
    "sum(supply_decrease) as supply_decrease,\n",
    "sum(supply_increase) as supply_increase,\n",
    "sum(tech_pos_new_tech_copy) as tech_pos_new_tech_copy,\n",
    "sum(transportation_disruption) as transportation_disruption,\n",
    "sum(tsr_ltip_drivers) as tsr_ltip_drivers,\n",
    "sum(unstable_demand) as unstable_demand,\n",
    "sum(weak_demand_bool) as weak_demand_bool,\n",
    "sum(weak_strategy_bool) as weak_strategy_bool,\n",
    "sum(work_stoppage) as work_stoppage,\n",
    "sum(yield_curve) as yield_curve,\n",
    "sum(yield_curve_flattening) as yield_curve_flattening,\n",
    "sum(yield_curve_steepening) as yield_curve_steepening\n",
    "FROM text_data.classifier_hits_w_columnname\n",
    "GROUP BY extract(week from date), extract(year from date) \n",
    "ORDER BY extract(year from date),extract(week from date)''')\n",
    "rows = cur.fetchall()\n",
    "features = pd.DataFrame(rows)"
   ]
  },
  {
   "cell_type": "code",
   "execution_count": null,
   "metadata": {},
   "outputs": [],
   "source": [
    "# read regime data\n",
    "conn = psycopg2.connect(host=\"qc-aurora.coh4objazhte.us-east-1.rds.amazonaws.com\", \n",
    "                        database='qcdb', user='Capstone_User', password=\"capstoneFall2019!\", port=\"5432\")\n",
    "cur1 = conn.cursor(cursor_factory=RealDictCursor) \n",
    "cur1.execute('SELECT extract(year from cast(date as date)) as year, extract(week from cast(date as date)) as week,mkt_ret_regimes,three_factor_regimes FROM text_data.regime') \n",
    "rows = cur1.fetchall()\n",
    "regime = pd.DataFrame(rows)\n",
    "regime"
   ]
  },
  {
   "cell_type": "code",
   "execution_count": null,
   "metadata": {},
   "outputs": [],
   "source": [
    "# join two tables\n",
    "data = regime.merge(features, how = 'inner', on = ['year','week'])"
   ]
  },
  {
   "cell_type": "code",
   "execution_count": null,
   "metadata": {},
   "outputs": [],
   "source": [
    "data.head()"
   ]
  },
  {
   "cell_type": "code",
   "execution_count": null,
   "metadata": {},
   "outputs": [],
   "source": [
    "#This step is optional: save the data file to local path\n",
    "data.to_csv(\"/Users/cc/Desktop/19Fall Semester/BUDT758W-Capstone Project/data.csv\")"
   ]
  },
  {
   "cell_type": "code",
   "execution_count": 57,
   "metadata": {},
   "outputs": [],
   "source": [
    "# After year 2003, week 3 we can have consecutive data\n",
    "# Because we want to use week 1's features to predict week 4's regime, we drop the un-continuous data\n",
    "# the index of year 2003, week 3 is 14, so we want data after index 14\n",
    "data=data.iloc[14:,:] "
   ]
  },
  {
   "cell_type": "code",
   "execution_count": 58,
   "metadata": {},
   "outputs": [
    {
     "data": {
      "text/html": [
       "<div>\n",
       "<style scoped>\n",
       "    .dataframe tbody tr th:only-of-type {\n",
       "        vertical-align: middle;\n",
       "    }\n",
       "\n",
       "    .dataframe tbody tr th {\n",
       "        vertical-align: top;\n",
       "    }\n",
       "\n",
       "    .dataframe thead th {\n",
       "        text-align: right;\n",
       "    }\n",
       "</style>\n",
       "<table border=\"1\" class=\"dataframe\">\n",
       "  <thead>\n",
       "    <tr style=\"text-align: right;\">\n",
       "      <th></th>\n",
       "      <th>mkt_ret_regimes</th>\n",
       "      <th>three_factor_regimes</th>\n",
       "      <th>week</th>\n",
       "      <th>year</th>\n",
       "      <th>accounting_changes</th>\n",
       "      <th>accounting_red_flags</th>\n",
       "      <th>alternative_technology_development</th>\n",
       "      <th>assembly_bottleneck</th>\n",
       "      <th>available_seat_km</th>\n",
       "      <th>bad_delivery_quality</th>\n",
       "      <th>...</th>\n",
       "      <th>tech_pos_new_tech_copy</th>\n",
       "      <th>transportation_disruption</th>\n",
       "      <th>tsr_ltip_drivers</th>\n",
       "      <th>unstable_demand</th>\n",
       "      <th>weak_demand_bool</th>\n",
       "      <th>weak_strategy_bool</th>\n",
       "      <th>work_stoppage</th>\n",
       "      <th>yield_curve</th>\n",
       "      <th>yield_curve_flattening</th>\n",
       "      <th>yield_curve_steepening</th>\n",
       "    </tr>\n",
       "  </thead>\n",
       "  <tbody>\n",
       "    <tr>\n",
       "      <th>0</th>\n",
       "      <td>1</td>\n",
       "      <td>2</td>\n",
       "      <td>3.0</td>\n",
       "      <td>2003.0</td>\n",
       "      <td>0</td>\n",
       "      <td>76</td>\n",
       "      <td>76</td>\n",
       "      <td>0</td>\n",
       "      <td>0</td>\n",
       "      <td>0</td>\n",
       "      <td>...</td>\n",
       "      <td>1004</td>\n",
       "      <td>36</td>\n",
       "      <td>0</td>\n",
       "      <td>248</td>\n",
       "      <td>2176</td>\n",
       "      <td>160</td>\n",
       "      <td>0</td>\n",
       "      <td>100</td>\n",
       "      <td>44</td>\n",
       "      <td>24</td>\n",
       "    </tr>\n",
       "    <tr>\n",
       "      <th>1</th>\n",
       "      <td>1</td>\n",
       "      <td>2</td>\n",
       "      <td>4.0</td>\n",
       "      <td>2003.0</td>\n",
       "      <td>12</td>\n",
       "      <td>160</td>\n",
       "      <td>52</td>\n",
       "      <td>40</td>\n",
       "      <td>0</td>\n",
       "      <td>4</td>\n",
       "      <td>...</td>\n",
       "      <td>1400</td>\n",
       "      <td>8</td>\n",
       "      <td>28</td>\n",
       "      <td>1140</td>\n",
       "      <td>5512</td>\n",
       "      <td>448</td>\n",
       "      <td>68</td>\n",
       "      <td>32</td>\n",
       "      <td>12</td>\n",
       "      <td>0</td>\n",
       "    </tr>\n",
       "    <tr>\n",
       "      <th>2</th>\n",
       "      <td>1</td>\n",
       "      <td>2</td>\n",
       "      <td>5.0</td>\n",
       "      <td>2003.0</td>\n",
       "      <td>0</td>\n",
       "      <td>0</td>\n",
       "      <td>116</td>\n",
       "      <td>168</td>\n",
       "      <td>0</td>\n",
       "      <td>0</td>\n",
       "      <td>...</td>\n",
       "      <td>2352</td>\n",
       "      <td>4</td>\n",
       "      <td>0</td>\n",
       "      <td>696</td>\n",
       "      <td>6784</td>\n",
       "      <td>384</td>\n",
       "      <td>52</td>\n",
       "      <td>232</td>\n",
       "      <td>0</td>\n",
       "      <td>0</td>\n",
       "    </tr>\n",
       "    <tr>\n",
       "      <th>3</th>\n",
       "      <td>1</td>\n",
       "      <td>2</td>\n",
       "      <td>6.0</td>\n",
       "      <td>2003.0</td>\n",
       "      <td>0</td>\n",
       "      <td>16</td>\n",
       "      <td>88</td>\n",
       "      <td>112</td>\n",
       "      <td>0</td>\n",
       "      <td>0</td>\n",
       "      <td>...</td>\n",
       "      <td>892</td>\n",
       "      <td>24</td>\n",
       "      <td>0</td>\n",
       "      <td>612</td>\n",
       "      <td>4856</td>\n",
       "      <td>160</td>\n",
       "      <td>64</td>\n",
       "      <td>64</td>\n",
       "      <td>0</td>\n",
       "      <td>0</td>\n",
       "    </tr>\n",
       "    <tr>\n",
       "      <th>4</th>\n",
       "      <td>1</td>\n",
       "      <td>2</td>\n",
       "      <td>7.0</td>\n",
       "      <td>2003.0</td>\n",
       "      <td>44</td>\n",
       "      <td>72</td>\n",
       "      <td>12</td>\n",
       "      <td>52</td>\n",
       "      <td>0</td>\n",
       "      <td>0</td>\n",
       "      <td>...</td>\n",
       "      <td>1584</td>\n",
       "      <td>16</td>\n",
       "      <td>0</td>\n",
       "      <td>288</td>\n",
       "      <td>3616</td>\n",
       "      <td>104</td>\n",
       "      <td>28</td>\n",
       "      <td>0</td>\n",
       "      <td>0</td>\n",
       "      <td>0</td>\n",
       "    </tr>\n",
       "  </tbody>\n",
       "</table>\n",
       "<p>5 rows × 313 columns</p>\n",
       "</div>"
      ],
      "text/plain": [
       "   mkt_ret_regimes  three_factor_regimes  week    year  accounting_changes  \\\n",
       "0                1                     2   3.0  2003.0                   0   \n",
       "1                1                     2   4.0  2003.0                  12   \n",
       "2                1                     2   5.0  2003.0                   0   \n",
       "3                1                     2   6.0  2003.0                   0   \n",
       "4                1                     2   7.0  2003.0                  44   \n",
       "\n",
       "   accounting_red_flags  alternative_technology_development  \\\n",
       "0                    76                                  76   \n",
       "1                   160                                  52   \n",
       "2                     0                                 116   \n",
       "3                    16                                  88   \n",
       "4                    72                                  12   \n",
       "\n",
       "   assembly_bottleneck  available_seat_km  bad_delivery_quality  ...  \\\n",
       "0                    0                  0                     0  ...   \n",
       "1                   40                  0                     4  ...   \n",
       "2                  168                  0                     0  ...   \n",
       "3                  112                  0                     0  ...   \n",
       "4                   52                  0                     0  ...   \n",
       "\n",
       "   tech_pos_new_tech_copy  transportation_disruption  tsr_ltip_drivers  \\\n",
       "0                    1004                         36                 0   \n",
       "1                    1400                          8                28   \n",
       "2                    2352                          4                 0   \n",
       "3                     892                         24                 0   \n",
       "4                    1584                         16                 0   \n",
       "\n",
       "   unstable_demand  weak_demand_bool  weak_strategy_bool  work_stoppage  \\\n",
       "0              248              2176                 160              0   \n",
       "1             1140              5512                 448             68   \n",
       "2              696              6784                 384             52   \n",
       "3              612              4856                 160             64   \n",
       "4              288              3616                 104             28   \n",
       "\n",
       "   yield_curve  yield_curve_flattening  yield_curve_steepening  \n",
       "0          100                      44                      24  \n",
       "1           32                      12                       0  \n",
       "2          232                       0                       0  \n",
       "3           64                       0                       0  \n",
       "4            0                       0                       0  \n",
       "\n",
       "[5 rows x 313 columns]"
      ]
     },
     "execution_count": 58,
     "metadata": {},
     "output_type": "execute_result"
    }
   ],
   "source": [
    "data.head()"
   ]
  },
  {
   "cell_type": "code",
   "execution_count": 59,
   "metadata": {
    "scrolled": true
   },
   "outputs": [
    {
     "data": {
      "text/plain": [
       "count    789.000000\n",
       "mean       0.283904\n",
       "std        0.451177\n",
       "min        0.000000\n",
       "25%        0.000000\n",
       "50%        0.000000\n",
       "75%        1.000000\n",
       "max        1.000000\n",
       "Name: mkt_ret_regimes, dtype: float64"
      ]
     },
     "execution_count": 59,
     "metadata": {},
     "output_type": "execute_result"
    }
   ],
   "source": [
    "data['mkt_ret_regimes'].describe()"
   ]
  },
  {
   "cell_type": "code",
   "execution_count": 60,
   "metadata": {},
   "outputs": [
    {
     "data": {
      "text/plain": [
       "count    789.000000\n",
       "mean       1.207858\n",
       "std        0.614866\n",
       "min        0.000000\n",
       "25%        1.000000\n",
       "50%        1.000000\n",
       "75%        2.000000\n",
       "max        2.000000\n",
       "Name: three_factor_regimes, dtype: float64"
      ]
     },
     "execution_count": 60,
     "metadata": {},
     "output_type": "execute_result"
    }
   ],
   "source": [
    "data['three_factor_regimes'].describe()"
   ]
  },
  {
   "cell_type": "markdown",
   "metadata": {},
   "source": [
    "### 2. Prepare the dataset, train test split, create a 3 week lag"
   ]
  },
  {
   "cell_type": "code",
   "execution_count": 61,
   "metadata": {},
   "outputs": [],
   "source": [
    "# the first two columns are y variables, the rest of the columns are predictors\n",
    "X=data.iloc[:,2:]\n",
    "# y_two means two factor regime, y_three means 3 factor regime\n",
    "y_two,y_three=data['mkt_ret_regimes'],data['three_factor_regimes']\n",
    "\n",
    "\n",
    "## we take 3 weeks lag, so we drop the last 3 x variabels\n",
    "X=X.iloc[0:-3,2:]\n",
    "X=X.reset_index().iloc[:,1:]\n",
    "\n",
    "## take 3 weeks lag, the response y is 3 weeks later than predictor.\n",
    "## for example, using week1's text features to predict week4's regime.\n",
    "y_two=y_two[3:]\n",
    "\n",
    "# train test split, test size: 0.35, ramdom state = 123\n",
    "from sklearn.model_selection import train_test_split\n",
    "X_train,X_test,y_two_train,y_two_test=train_test_split(X,y_two,test_size = 0.35, random_state=123)"
   ]
  },
  {
   "cell_type": "markdown",
   "metadata": {},
   "source": [
    "### 3. Using the original dataset to run models"
   ]
  },
  {
   "cell_type": "markdown",
   "metadata": {},
   "source": [
    "###  3-1. Logistic Regression"
   ]
  },
  {
   "cell_type": "code",
   "execution_count": 81,
   "metadata": {},
   "outputs": [
    {
     "name": "stderr",
     "output_type": "stream",
     "text": [
      "//anaconda3/lib/python3.7/site-packages/sklearn/linear_model/logistic.py:432: FutureWarning: Default solver will be changed to 'lbfgs' in 0.22. Specify a solver to silence this warning.\n",
      "  FutureWarning)\n",
      "//anaconda3/lib/python3.7/site-packages/sklearn/svm/base.py:929: ConvergenceWarning: Liblinear failed to converge, increase the number of iterations.\n",
      "  \"the number of iterations.\", ConvergenceWarning)\n"
     ]
    },
    {
     "data": {
      "text/plain": [
       "0.7717391304347826"
      ]
     },
     "execution_count": 81,
     "metadata": {},
     "output_type": "execute_result"
    }
   ],
   "source": [
    "# using training data to train logistic regression\n",
    "logreg_twolag = LogisticRegression()\n",
    "logreg_twolag.fit(X_train,y_two_train)#generate the model\n",
    "\n",
    "# use the trained model predict on test data\n",
    "lr_y_pred = logreg_twolag.predict(X_test)\n",
    "\n",
    "#calculate accuracy score\n",
    "from sklearn.metrics import accuracy_score\n",
    "accuracy_score(y_two_test,lr_y_pred)"
   ]
  },
  {
   "cell_type": "code",
   "execution_count": 82,
   "metadata": {},
   "outputs": [
    {
     "name": "stdout",
     "output_type": "stream",
     "text": [
      "baseline accuracy is: 0.6884057971014492\n",
      "precision score is: 0.632183908045977\n",
      "recall score is: 0.6395348837209303\n",
      "f1 score is: 0.6358381502890174\n",
      "Baseline: ROC AUC=0.500\n",
      "Logistic: ROC AUC=0.736\n"
     ]
    }
   ],
   "source": [
    "# calculate baseline: the majority class\n",
    "y_two_test.value_counts()[0]/len(y_two_test)\n",
    "print('baseline accuracy is: '+ str(y_two_test.value_counts()[0]/len(y_two_test)));\n",
    "\n",
    "#calcualte confusion matrixs\n",
    "from sklearn.metrics import precision_score\n",
    "from sklearn.metrics import recall_score\n",
    "from sklearn.metrics import f1_score\n",
    "print('precision score is: '+str(precision_score(y_two_test,lr_y_pred)))\n",
    "print('recall score is: '+str(recall_score(y_two_test,lr_y_pred)))\n",
    "print('f1 score is: '+str(f1_score(y_two_test,lr_y_pred)))\n",
    "\n",
    "#auroc\n",
    "ns_probs = [1 if np.average(y_two_test)>=0.5 else 0 for _ in range(len(y_two_test))]#common class\n",
    "\n",
    "ns_auc = roc_auc_score(y_two_test,ns_probs)\n",
    "lr_auc = roc_auc_score(y_two_test,lr_y_pred)\n",
    "# summarize scores\n",
    "print('Baseline: ROC AUC=%.3f' % (ns_auc))\n",
    "print('Logistic: ROC AUC=%.3f' % (lr_auc))"
   ]
  },
  {
   "cell_type": "markdown",
   "metadata": {},
   "source": [
    "### 3-2. Lasso Logistic Regression"
   ]
  },
  {
   "cell_type": "code",
   "execution_count": 64,
   "metadata": {
    "scrolled": true
   },
   "outputs": [],
   "source": [
    "# when the penalty is L1, it's LASSO logistic regression\n",
    "# we use cross validation to pick the best regularization strength C\n",
    "from sklearn.linear_model import LogisticRegressionCV\n",
    "lasso_lr = LogisticRegressionCV(penalty=\"l1\",cv=5,solver='liblinear',random_state=0)\n",
    "lasso_lr.fit(X_train,y_two_train)\n",
    "thetaLasso=lasso_lr.coef_"
   ]
  },
  {
   "cell_type": "code",
   "execution_count": 65,
   "metadata": {},
   "outputs": [
    {
     "data": {
      "text/plain": [
       "array([0.00077426])"
      ]
     },
     "execution_count": 65,
     "metadata": {},
     "output_type": "execute_result"
    }
   ],
   "source": [
    "#the best C picked by cross validation\n",
    "lasso_lr.C_"
   ]
  },
  {
   "cell_type": "code",
   "execution_count": 66,
   "metadata": {},
   "outputs": [
    {
     "data": {
      "text/html": [
       "<div>\n",
       "<style scoped>\n",
       "    .dataframe tbody tr th:only-of-type {\n",
       "        vertical-align: middle;\n",
       "    }\n",
       "\n",
       "    .dataframe tbody tr th {\n",
       "        vertical-align: top;\n",
       "    }\n",
       "\n",
       "    .dataframe thead th {\n",
       "        text-align: right;\n",
       "    }\n",
       "</style>\n",
       "<table border=\"1\" class=\"dataframe\">\n",
       "  <thead>\n",
       "    <tr style=\"text-align: right;\">\n",
       "      <th></th>\n",
       "      <th>Feature</th>\n",
       "      <th>Coef</th>\n",
       "    </tr>\n",
       "  </thead>\n",
       "  <tbody>\n",
       "    <tr>\n",
       "      <th>78</th>\n",
       "      <td>finance_neg_negative_signal</td>\n",
       "      <td>0.003237</td>\n",
       "    </tr>\n",
       "    <tr>\n",
       "      <th>116</th>\n",
       "      <td>industry_neg_demand_unstable</td>\n",
       "      <td>0.003162</td>\n",
       "    </tr>\n",
       "    <tr>\n",
       "      <th>27</th>\n",
       "      <td>earthquake</td>\n",
       "      <td>0.003054</td>\n",
       "    </tr>\n",
       "    <tr>\n",
       "      <th>302</th>\n",
       "      <td>unstable_demand</td>\n",
       "      <td>0.001947</td>\n",
       "    </tr>\n",
       "    <tr>\n",
       "      <th>95</th>\n",
       "      <td>finance_pos_profit_increase</td>\n",
       "      <td>0.000748</td>\n",
       "    </tr>\n",
       "    <tr>\n",
       "      <th>280</th>\n",
       "      <td>price_decreases</td>\n",
       "      <td>0.000535</td>\n",
       "    </tr>\n",
       "    <tr>\n",
       "      <th>76</th>\n",
       "      <td>finance_neg_loss</td>\n",
       "      <td>0.000414</td>\n",
       "    </tr>\n",
       "    <tr>\n",
       "      <th>68</th>\n",
       "      <td>finance_neg_bankruptcy</td>\n",
       "      <td>0.000295</td>\n",
       "    </tr>\n",
       "    <tr>\n",
       "      <th>96</th>\n",
       "      <td>finance_pos_revenue_up</td>\n",
       "      <td>0.000171</td>\n",
       "    </tr>\n",
       "    <tr>\n",
       "      <th>281</th>\n",
       "      <td>price_increases</td>\n",
       "      <td>0.000148</td>\n",
       "    </tr>\n",
       "    <tr>\n",
       "      <th>220</th>\n",
       "      <td>management_regional_strategy</td>\n",
       "      <td>0.000088</td>\n",
       "    </tr>\n",
       "    <tr>\n",
       "      <th>211</th>\n",
       "      <td>management_pos_longterm_strategy</td>\n",
       "      <td>0.000030</td>\n",
       "    </tr>\n",
       "    <tr>\n",
       "      <th>91</th>\n",
       "      <td>finance_pos_liquidity</td>\n",
       "      <td>0.000017</td>\n",
       "    </tr>\n",
       "    <tr>\n",
       "      <th>176</th>\n",
       "      <td>management</td>\n",
       "      <td>-0.000027</td>\n",
       "    </tr>\n",
       "    <tr>\n",
       "      <th>223</th>\n",
       "      <td>market_responsive_inventory_strategy</td>\n",
       "      <td>-0.000075</td>\n",
       "    </tr>\n",
       "    <tr>\n",
       "      <th>296</th>\n",
       "      <td>strong_strategy_bool</td>\n",
       "      <td>-0.000141</td>\n",
       "    </tr>\n",
       "    <tr>\n",
       "      <th>148</th>\n",
       "      <td>industry_pos_demand_strong</td>\n",
       "      <td>-0.000276</td>\n",
       "    </tr>\n",
       "    <tr>\n",
       "      <th>100</th>\n",
       "      <td>free_cash_flow</td>\n",
       "      <td>-0.000289</td>\n",
       "    </tr>\n",
       "    <tr>\n",
       "      <th>204</th>\n",
       "      <td>management_neg_shortterm_strategy</td>\n",
       "      <td>-0.000316</td>\n",
       "    </tr>\n",
       "    <tr>\n",
       "      <th>213</th>\n",
       "      <td>management_pos_mergers_acquisitions</td>\n",
       "      <td>-0.000317</td>\n",
       "    </tr>\n",
       "    <tr>\n",
       "      <th>13</th>\n",
       "      <td>competitive_environment</td>\n",
       "      <td>-0.000369</td>\n",
       "    </tr>\n",
       "    <tr>\n",
       "      <th>81</th>\n",
       "      <td>finance_neg_revenue_down</td>\n",
       "      <td>-0.000411</td>\n",
       "    </tr>\n",
       "    <tr>\n",
       "      <th>92</th>\n",
       "      <td>finance_pos_outperform</td>\n",
       "      <td>-0.001077</td>\n",
       "    </tr>\n",
       "    <tr>\n",
       "      <th>124</th>\n",
       "      <td>industry_neg_headwinds</td>\n",
       "      <td>-0.002850</td>\n",
       "    </tr>\n",
       "  </tbody>\n",
       "</table>\n",
       "</div>"
      ],
      "text/plain": [
       "                                  Feature      Coef\n",
       "78            finance_neg_negative_signal  0.003237\n",
       "116          industry_neg_demand_unstable  0.003162\n",
       "27                             earthquake  0.003054\n",
       "302                       unstable_demand  0.001947\n",
       "95            finance_pos_profit_increase  0.000748\n",
       "280                       price_decreases  0.000535\n",
       "76                       finance_neg_loss  0.000414\n",
       "68                 finance_neg_bankruptcy  0.000295\n",
       "96                 finance_pos_revenue_up  0.000171\n",
       "281                       price_increases  0.000148\n",
       "220          management_regional_strategy  0.000088\n",
       "211      management_pos_longterm_strategy  0.000030\n",
       "91                  finance_pos_liquidity  0.000017\n",
       "176                            management -0.000027\n",
       "223  market_responsive_inventory_strategy -0.000075\n",
       "296                  strong_strategy_bool -0.000141\n",
       "148            industry_pos_demand_strong -0.000276\n",
       "100                        free_cash_flow -0.000289\n",
       "204     management_neg_shortterm_strategy -0.000316\n",
       "213   management_pos_mergers_acquisitions -0.000317\n",
       "13                competitive_environment -0.000369\n",
       "81               finance_neg_revenue_down -0.000411\n",
       "92                 finance_pos_outperform -0.001077\n",
       "124                industry_neg_headwinds -0.002850"
      ]
     },
     "execution_count": 66,
     "metadata": {},
     "output_type": "execute_result"
    }
   ],
   "source": [
    "# Show the features that are not eliminated (coefficients not equal to 0)\n",
    "lassoCoef=thetaLasso.tolist()[0]\n",
    "lassoCoef_dic={X_train.columns[i]:v for i,v in enumerate(lassoCoef)}\n",
    "\n",
    "lassoCoef_DF=pd.DataFrame.from_dict(list(lassoCoef_dic.items()))\n",
    "lassoCoef_DF.columns=['Feature','Coef']\n",
    "lassoCoef_DF=lassoCoef_DF.loc[lassoCoef_DF['Coef']!=0,:]\n",
    "lassoCoef_DF.sort_values(by= ['Coef'], ascending = False)"
   ]
  },
  {
   "cell_type": "code",
   "execution_count": 84,
   "metadata": {},
   "outputs": [
    {
     "data": {
      "text/plain": [
       "0.7717391304347826"
      ]
     },
     "execution_count": 84,
     "metadata": {},
     "output_type": "execute_result"
    }
   ],
   "source": [
    "# predict on testing data\n",
    "lasso_y_pred = lasso_lr.predict(X_test)\n",
    "\n",
    "from sklearn.metrics import accuracy_score\n",
    "accuracy_score(y_two_test,lasso_y_pred)"
   ]
  },
  {
   "cell_type": "code",
   "execution_count": 91,
   "metadata": {},
   "outputs": [
    {
     "name": "stdout",
     "output_type": "stream",
     "text": [
      "baseline accuracy is: 0.6884057971014492\n",
      "precision score is: 0.6949152542372882\n",
      "recall score is: 0.47674418604651164\n",
      "f1 score is: 0.5655172413793104\n",
      "Baseline: ROC AUC=0.500\n",
      "Lasso: ROC AUC=0.691\n"
     ]
    }
   ],
   "source": [
    "#baseline\n",
    "y_two_test.value_counts()[0]/len(y_two_test)\n",
    "print('baseline accuracy is: '+ str(y_two_test.value_counts()[0]/len(y_two_test)));\n",
    "\n",
    "from sklearn.metrics import precision_score\n",
    "from sklearn.metrics import recall_score\n",
    "from sklearn.metrics import f1_score\n",
    "print('precision score is: '+str(precision_score(y_two_test,lasso_y_pred)))\n",
    "print('recall score is: '+str(recall_score(y_two_test,lasso_y_pred)))\n",
    "print('f1 score is: '+str(f1_score(y_two_test,lasso_y_pred)))\n",
    "\n",
    "#auroc\n",
    "import numpy as np\n",
    "from sklearn.metrics import roc_curve\n",
    "from sklearn.metrics import roc_auc_score\n",
    "from matplotlib import pyplot\n",
    "\n",
    "lasso_auc = roc_auc_score(y_two_test,lasso_y_pred)\n",
    "# summarize scores\n",
    "print('Baseline: ROC AUC=%.3f' % (ns_auc))\n",
    "print('Lasso: ROC AUC=%.3f' % (lasso_auc))"
   ]
  },
  {
   "cell_type": "markdown",
   "metadata": {},
   "source": [
    "### 3-3. Classification Three "
   ]
  },
  {
   "cell_type": "code",
   "execution_count": 69,
   "metadata": {},
   "outputs": [
    {
     "data": {
      "text/plain": [
       "0.7681159420289855"
      ]
     },
     "execution_count": 69,
     "metadata": {},
     "output_type": "execute_result"
    }
   ],
   "source": [
    "from scipy.stats import randint\n",
    "from sklearn.tree import DecisionTreeClassifier\n",
    "from sklearn.model_selection import RandomizedSearchCV\n",
    "\n",
    "# using cross validation to tune tree parameters\n",
    "param_dist = {\"max_depth\": np.linspace(1,50,50),\n",
    "             \"max_features\": np.arange(1,X_train.shape[1]),\n",
    "             \"min_samples_leaf\": np.linspace(0.1,0.5,20),\n",
    "             \"criterion\": [\"gini\", \"entropy\"]}\n",
    "tree = DecisionTreeClassifier()\n",
    "tree_cv = RandomizedSearchCV(tree, param_dist, cv=5)\n",
    "tree_cv.fit(X_train,y_two_train) \n",
    "tree_y_pred=tree_cv.best_estimator_.predict(X_test)\n",
    "\n",
    "#tree_cv.score(X_test,y_two_test)\n",
    "\n",
    "from sklearn.metrics import accuracy_score\n",
    "accuracy_score(y_two_test,tree_y_pred)"
   ]
  },
  {
   "cell_type": "code",
   "execution_count": 92,
   "metadata": {},
   "outputs": [
    {
     "name": "stdout",
     "output_type": "stream",
     "text": [
      "baseline accuracy is: 0.6884057971014492\n",
      "precision score is: 0.6964285714285714\n",
      "recall score is: 0.45348837209302323\n",
      "f1 score is: 0.5492957746478874\n",
      "Baseline: ROC AUC=0.500\n",
      "Classification Tree: ROC AUC=0.682\n"
     ]
    }
   ],
   "source": [
    "#baseline\n",
    "y_two_test.value_counts()[0]/len(y_two_test)\n",
    "print('baseline accuracy is: '+ str(y_two_test.value_counts()[0]/len(y_two_test)));\n",
    "\n",
    "from sklearn.metrics import precision_score\n",
    "from sklearn.metrics import recall_score\n",
    "from sklearn.metrics import f1_score\n",
    "print('precision score is: '+str(precision_score(y_two_test,tree_y_pred)))\n",
    "print('recall score is: '+str(recall_score(y_two_test,tree_y_pred)))\n",
    "print('f1 score is: '+str(f1_score(y_two_test,tree_y_pred)))\n",
    "\n",
    "#auroc\n",
    "import numpy as np\n",
    "from sklearn.metrics import roc_curve\n",
    "from sklearn.metrics import roc_auc_score\n",
    "from matplotlib import pyplot\n",
    "\n",
    "ns_probs = [1 if np.average(y_two_test)>=0.5 else 0 for _ in range(len(y_two_test))]#common class\n",
    "\n",
    "ns_auc = roc_auc_score(y_two_test,ns_probs)\n",
    "tree_auc = roc_auc_score(y_two_test,tree_y_pred)\n",
    "# summarize scores\n",
    "print('Baseline: ROC AUC=%.3f' % (ns_auc))\n",
    "print('Classification Tree: ROC AUC=%.3f' % (tree_auc))"
   ]
  },
  {
   "cell_type": "code",
   "execution_count": 71,
   "metadata": {},
   "outputs": [
    {
     "data": {
      "text/html": [
       "<div>\n",
       "<style scoped>\n",
       "    .dataframe tbody tr th:only-of-type {\n",
       "        vertical-align: middle;\n",
       "    }\n",
       "\n",
       "    .dataframe tbody tr th {\n",
       "        vertical-align: top;\n",
       "    }\n",
       "\n",
       "    .dataframe thead th {\n",
       "        text-align: right;\n",
       "    }\n",
       "</style>\n",
       "<table border=\"1\" class=\"dataframe\">\n",
       "  <thead>\n",
       "    <tr style=\"text-align: right;\">\n",
       "      <th></th>\n",
       "      <th>Feature</th>\n",
       "      <th>Importance</th>\n",
       "    </tr>\n",
       "  </thead>\n",
       "  <tbody>\n",
       "    <tr>\n",
       "      <th>0</th>\n",
       "      <td>economy_neg_economic_comparison</td>\n",
       "      <td>0.495512</td>\n",
       "    </tr>\n",
       "    <tr>\n",
       "      <th>1</th>\n",
       "      <td>industry_pos_general</td>\n",
       "      <td>0.351722</td>\n",
       "    </tr>\n",
       "    <tr>\n",
       "      <th>2</th>\n",
       "      <td>management_pos_marketing_strategy</td>\n",
       "      <td>0.104081</td>\n",
       "    </tr>\n",
       "    <tr>\n",
       "      <th>3</th>\n",
       "      <td>finance_neg_efficiency_low</td>\n",
       "      <td>0.041397</td>\n",
       "    </tr>\n",
       "    <tr>\n",
       "      <th>4</th>\n",
       "      <td>management_pos_research_development</td>\n",
       "      <td>0.007289</td>\n",
       "    </tr>\n",
       "  </tbody>\n",
       "</table>\n",
       "</div>"
      ],
      "text/plain": [
       "                               Feature  Importance\n",
       "0      economy_neg_economic_comparison    0.495512\n",
       "1                 industry_pos_general    0.351722\n",
       "2    management_pos_marketing_strategy    0.104081\n",
       "3           finance_neg_efficiency_low    0.041397\n",
       "4  management_pos_research_development    0.007289"
      ]
     },
     "execution_count": 71,
     "metadata": {},
     "output_type": "execute_result"
    }
   ],
   "source": [
    "#tree's feature importance\n",
    "import pandas as pd\n",
    "# see how much they improve the impurity\n",
    "importances = tree_cv.best_estimator_.feature_importances_\n",
    "dic={X.columns[i]:v for i,v in enumerate(importances) if v!=0}\n",
    "df=pd.DataFrame.from_dict(list(dic.items()))\n",
    "df.columns=['Feature','Importance']\n",
    "df=df.sort_values(by='Importance',ascending=False)\n",
    "df=df.reset_index().iloc[:,1:]\n",
    "df"
   ]
  },
  {
   "cell_type": "code",
   "execution_count": 72,
   "metadata": {},
   "outputs": [
    {
     "data": {
      "text/plain": [
       "[]"
      ]
     },
     "execution_count": 72,
     "metadata": {},
     "output_type": "execute_result"
    }
   ],
   "source": [
    "#compare among two model's important features\n",
    "[x for x in lassoCoef_DF['Feature'] if x in df['Feature']]"
   ]
  },
  {
   "cell_type": "code",
   "execution_count": 73,
   "metadata": {
    "scrolled": true
   },
   "outputs": [
    {
     "name": "stdout",
     "output_type": "stream",
     "text": [
      "0.7568478260869566\n"
     ]
    }
   ],
   "source": [
    "from scipy.stats import randint\n",
    "from sklearn.tree import DecisionTreeClassifier\n",
    "from sklearn.model_selection import RandomizedSearchCV\n",
    "\n",
    "L=[]\n",
    "for i in range(100):\n",
    "    param_dist = {\"max_depth\": [1, 50],\n",
    "                  \"max_features\": np.arange(1,310),\n",
    "                  \"min_samples_leaf\": np.arange(1,50),\n",
    "                  \"criterion\": [\"gini\", \"entropy\"]}\n",
    "    tree = DecisionTreeClassifier()\n",
    "    tree_cv = RandomizedSearchCV(tree, param_dist, cv=5)\n",
    "    tree_cv.fit(X_train,y_two_train) \n",
    "    y_pred=tree_cv.best_estimator_.predict(X_test)\n",
    "\n",
    "    #tree_cv.score(X_test,y_two_test)\n",
    "\n",
    "    from sklearn.metrics import accuracy_score\n",
    "    L.append(accuracy_score(y_two_test,y_pred))\n",
    "print(np.average(L))"
   ]
  },
  {
   "cell_type": "code",
   "execution_count": 1,
   "metadata": {},
   "outputs": [
    {
     "ename": "NameError",
     "evalue": "name 'tree_cv' is not defined",
     "output_type": "error",
     "traceback": [
      "\u001b[0;31m---------------------------------------------------------------------------\u001b[0m",
      "\u001b[0;31mNameError\u001b[0m                                 Traceback (most recent call last)",
      "\u001b[0;32m<ipython-input-1-14d4d17b49c9>\u001b[0m in \u001b[0;36m<module>\u001b[0;34m\u001b[0m\n\u001b[1;32m      1\u001b[0m \u001b[0;31m# the best paramter chose via cross validation\u001b[0m\u001b[0;34m\u001b[0m\u001b[0;34m\u001b[0m\u001b[0;34m\u001b[0m\u001b[0m\n\u001b[0;32m----> 2\u001b[0;31m \u001b[0mtree_cv\u001b[0m\u001b[0;34m.\u001b[0m\u001b[0mbest_estimator_\u001b[0m\u001b[0;34m\u001b[0m\u001b[0;34m\u001b[0m\u001b[0m\n\u001b[0m",
      "\u001b[0;31mNameError\u001b[0m: name 'tree_cv' is not defined"
     ]
    }
   ],
   "source": [
    "# the best paramter chose via cross validation\n",
    "tree_cv.best_estimator_"
   ]
  },
  {
   "cell_type": "markdown",
   "metadata": {},
   "source": [
    "### 3-4. Random Forest"
   ]
  },
  {
   "cell_type": "code",
   "execution_count": 89,
   "metadata": {},
   "outputs": [
    {
     "data": {
      "text/plain": [
       "0.8079710144927537"
      ]
     },
     "execution_count": 89,
     "metadata": {},
     "output_type": "execute_result"
    }
   ],
   "source": [
    "from sklearn.model_selection import RandomizedSearchCV\n",
    "# Number of trees in random forest\n",
    "n_estimators = [int(x) for x in np.linspace(start = 200, stop = 2000, num = 10)]\n",
    "# Number of features to consider at every split\n",
    "max_features = ['auto', 'sqrt']\n",
    "# Maximum number of levels in tree\n",
    "max_depth = [int(x) for x in np.linspace(10, 110, num = 11)]\n",
    "max_depth.append(None)\n",
    "# Minimum number of samples required to split a node\n",
    "min_samples_split = [2, 5, 10]\n",
    "# Minimum number of samples required at each leaf node\n",
    "min_samples_leaf = [1, 2, 4]\n",
    "# Method of selecting samples for training each tree\n",
    "bootstrap = [True, False]\n",
    "# Create the param_dist\n",
    "param_dist = {'n_estimators': n_estimators,\n",
    "               'max_features': max_features,\n",
    "               'max_depth': max_depth,\n",
    "               'min_samples_split': min_samples_split,\n",
    "               'min_samples_leaf': min_samples_leaf,\n",
    "               'bootstrap': bootstrap}\n",
    "from scipy.stats import randint\n",
    "from sklearn.tree import DecisionTreeClassifier\n",
    "from sklearn.model_selection import RandomizedSearchCV\n",
    "from scipy.stats import randint\n",
    "from sklearn.model_selection import RandomizedSearchCV\n",
    "\n",
    "from sklearn.ensemble import RandomForestClassifier\n",
    "rf = RandomForestClassifier() \n",
    "rf_cv = RandomizedSearchCV(rf, param_dist, cv=5)\n",
    "rf_cv.fit(X_train,y_two_train) \n",
    "rf_y_pred=rf_cv.best_estimator_.predict(X_test)\n",
    "\n",
    "\n",
    "from sklearn.metrics import accuracy_score\n",
    "accuracy_score(y_two_test,rf_y_pred)"
   ]
  },
  {
   "cell_type": "code",
   "execution_count": 93,
   "metadata": {},
   "outputs": [
    {
     "name": "stdout",
     "output_type": "stream",
     "text": [
      "baseline accuracy is: 0.6884057971014492\n",
      "precision score is: 0.9024390243902439\n",
      "recall score is: 0.43023255813953487\n",
      "f1 score is: 0.5826771653543307\n",
      "Baseline: ROC AUC=0.500\n",
      "Random Forest: ROC AUC=0.705\n"
     ]
    }
   ],
   "source": [
    "#baseline\n",
    "y_two_test.value_counts()[0]/len(y_two_test)\n",
    "print('baseline accuracy is: '+ str(y_two_test.value_counts()[0]/len(y_two_test)));\n",
    "\n",
    "from sklearn.metrics import precision_score\n",
    "from sklearn.metrics import recall_score\n",
    "from sklearn.metrics import f1_score\n",
    "print('precision score is: '+str(precision_score(y_two_test,rf_y_pred)))\n",
    "print('recall score is: '+str(recall_score(y_two_test,rf_y_pred)))\n",
    "print('f1 score is: '+str(f1_score(y_two_test,rf_y_pred)))\n",
    "\n",
    "#auroc\n",
    "import numpy as np\n",
    "from sklearn.metrics import roc_curve\n",
    "from sklearn.metrics import roc_auc_score\n",
    "from matplotlib import pyplot\n",
    "\n",
    "ns_probs = [1 if np.average(y_two_test)>=0.5 else 0 for _ in range(len(y_two_test))]#common class\n",
    "\n",
    "ns_auc = roc_auc_score(y_two_test,ns_probs)\n",
    "rf_auc = roc_auc_score(y_two_test,rf_y_pred)\n",
    "# summarize scores\n",
    "print('Baseline: ROC AUC=%.3f' % (ns_auc))\n",
    "print('Random Forest: ROC AUC=%.3f' % (rf_auc))"
   ]
  },
  {
   "cell_type": "code",
   "execution_count": 94,
   "metadata": {},
   "outputs": [
    {
     "data": {
      "image/png": "[encoded data removed]",
      "text/plain": [
       "<Figure size 432x288 with 1 Axes>"
      ]
     },
     "metadata": {
      "needs_background": "light"
     },
     "output_type": "display_data"
    }
   ],
   "source": [
    "# check important festures based on how much impurity they improved\n",
    "import matplotlib.pyplot as plt\n",
    "importances = pd.Series(data=rf_cv.best_estimator_.feature_importances_,index= X_train.columns)\n",
    "importances_sorted = importances.sort_values()[-30:]\n",
    "importances_sorted.plot(kind='barh', color='lightgreen')\n",
    "plt.title('Features Importances')\n",
    "plt.show()"
   ]
  },
  {
   "cell_type": "code",
   "execution_count": 115,
   "metadata": {},
   "outputs": [],
   "source": [
    "#compare among two model's important features\n",
    "a = [x for x in lassoCoef_DF['Feature'] if x in importances_sorted]"
   ]
  },
  {
   "cell_type": "code",
   "execution_count": 118,
   "metadata": {},
   "outputs": [
    {
     "name": "stdout",
     "output_type": "stream",
     "text": [
      "earthquake\n",
      "finance_neg_bankruptcy\n",
      "industry_neg_demand_unstable\n",
      "management_pos_mergers_acquisitions\n",
      "unstable_demand\n"
     ]
    }
   ],
   "source": [
    "## common important features based on lasso lr, classfication tree and random forest\n",
    "for i in a:\n",
    "    print(i)"
   ]
  },
  {
   "cell_type": "markdown",
   "metadata": {},
   "source": [
    "#### ROC Curves of all above models"
   ]
  },
  {
   "cell_type": "code",
   "execution_count": 114,
   "metadata": {},
   "outputs": [
    {
     "data": {
      "image/png": "[encoded data removed]",
      "text/plain": [
       "<Figure size 504x360 with 1 Axes>"
      ]
     },
     "metadata": {},
     "output_type": "display_data"
    }
   ],
   "source": [
    "# calculate roc curves\n",
    "ns_fpr, ns_tpr, _ = roc_curve(y_two_test,ns_probs)\n",
    "lr_fpr, lr_tpr, _ = roc_curve(y_two_test,lr_y_pred)\n",
    "lasso_fpr, lasso_tpr, _ = roc_curve(y_two_test,lasso_y_pred)\n",
    "tree_fpr, tree_tpr, _ = roc_curve(y_two_test,tree_y_pred)\n",
    "rf_fpr, rf_tpr, _ = roc_curve(y_two_test,rf_y_pred)\n",
    "# plot the roc curve for the model\n",
    "pyplot.figure(figsize=(7,5));\n",
    "pyplot.style.use('seaborn-dark')\n",
    "pyplot.plot(ns_fpr, ns_tpr, linestyle='--', label='Baseline')\n",
    "pyplot.plot(lr_fpr, lr_tpr, marker='.', label='Logistic Regression')\n",
    "pyplot.plot(lasso_fpr, lasso_tpr, marker='.', label='Lasso Logistic Regression')\n",
    "pyplot.plot(tree_fpr, tree_tpr, marker='.', label='Classification Tree')\n",
    "pyplot.plot(rf_fpr, rf_tpr, marker='.', label='Random Forest')\n",
    "# axis labels\n",
    "pyplot.xlabel('False Positive Rate')\n",
    "pyplot.ylabel('True Positive Rate')\n",
    "# show the legend\n",
    "pyplot.legend(loc='lower right')\n",
    "# show the plot\n",
    "pyplot.show();"
   ]
  },
  {
   "cell_type": "markdown",
   "metadata": {},
   "source": [
    "### 4. Trying PCA to reduce dimension and run the same models above"
   ]
  },
  {
   "cell_type": "code",
   "execution_count": null,
   "metadata": {},
   "outputs": [],
   "source": [
    "#Perform PCA\n",
    "pca = PCA()\n",
    "X_reduced = pca.fit_transform(scale(X))"
   ]
  },
  {
   "cell_type": "code",
   "execution_count": null,
   "metadata": {},
   "outputs": [],
   "source": [
    "#cv with 10 fold\n",
    "n = len(X_reduced)\n",
    "kf_10 = model_selection.KFold(n_splits=10, shuffle=False)\n",
    "\n",
    "regr = LogisticRegression()\n",
    "mse = []"
   ]
  },
  {
   "cell_type": "code",
   "execution_count": null,
   "metadata": {},
   "outputs": [],
   "source": [
    "# Calculate MSE with only the intercept (no principal components in regression)\n",
    "score = -1*model_selection.cross_val_score(regr, np.ones((n,1)), y.ravel(), cv=kf_10, scoring='neg_mean_squared_error').mean()    \n",
    "mse.append(score)\n",
    "# Calculate MSE using CV for the 200 principle components, adding one component at the time.\n",
    "for i in np.arange(1, 200):\n",
    "    score = -1*model_selection.cross_val_score(regr, X_reduced[:,:i], y.ravel(), cv=kf_10, scoring='neg_mean_squared_error').mean()\n",
    "    mse.append(score)"
   ]
  },
  {
   "cell_type": "code",
   "execution_count": null,
   "metadata": {},
   "outputs": [],
   "source": [
    "# Plot results\n",
    "plt.figure(figsize=(25,10))\n",
    "plt.plot(mse, '-v')\n",
    "plt.xlabel('Number of principal components in regression')\n",
    "plt.ylabel('MSE')\n",
    "plt.title('Regime')\n",
    "plt.xlim(xmin=-1);"
   ]
  },
  {
   "cell_type": "code",
   "execution_count": null,
   "metadata": {},
   "outputs": [],
   "source": [
    "var = np.cumsum(np.round(pca.explained_variance_ratio_, decimals=4)*100)\n",
    "var.shape"
   ]
  },
  {
   "cell_type": "code",
   "execution_count": null,
   "metadata": {},
   "outputs": [],
   "source": [
    "var"
   ]
  },
  {
   "cell_type": "markdown",
   "metadata": {},
   "source": [
    "### PCA Logistic Regression"
   ]
  },
  {
   "cell_type": "markdown",
   "metadata": {},
   "source": [
    "#### Random Partition"
   ]
  },
  {
   "cell_type": "code",
   "execution_count": null,
   "metadata": {},
   "outputs": [],
   "source": [
    "pca1 = PCA()\n",
    "# Define X,y Split train/test dataset\n",
    "X_train, X_test, y_train, y_test = train_test_split(X, y, test_size=0.35, shuffle=True, random_state = 123)\n",
    "\n",
    "baseline = max(y_test[y_test==0].shape[0], y_test[y_test==1].shape[0])/y_test.shape[0]\n",
    "baseline"
   ]
  },
  {
   "cell_type": "code",
   "execution_count": null,
   "metadata": {},
   "outputs": [],
   "source": [
    "# Scale the data\n",
    "X_reduced_train = pca1.fit_transform(scale(X_train))\n",
    "n = len(X_reduced_train)\n",
    "\n",
    "# 10-fold CV\n",
    "kf_10 = model_selection.KFold( n_splits=10, shuffle=True, random_state=1)\n",
    "\n",
    "regr = LogisticRegression()\n",
    "mse = []\n",
    "\n",
    "# Calculate MSE with only the intercept (no principal components in regression)\n",
    "score = -1*model_selection.cross_val_score(regr, np.ones((n,1)), y_train.ravel(), cv=kf_10, scoring='neg_mean_squared_error').mean()    \n",
    "mse.append(score)\n",
    "\n",
    "# Calculate MSE using CV for the 19 principle components, adding one component at the time.\n",
    "for i in np.arange(1, 220):\n",
    "    score = -1*model_selection.cross_val_score(regr, X_reduced_train[:,:i], y_train.ravel(), cv=kf_10, scoring='neg_mean_squared_error').mean()\n",
    "    mse.append(score)"
   ]
  },
  {
   "cell_type": "code",
   "execution_count": null,
   "metadata": {},
   "outputs": [],
   "source": [
    "plt.figure(figsize=(35,10))\n",
    "plt.plot(np.array(mse), '-v')\n",
    "plt.xlabel('Number of principal components in logistics regression')\n",
    "plt.ylabel('MSE')\n",
    "plt.title('Regime')\n",
    "plt.xticks(np.arange(0,220,10))\n",
    "plt.xlim(xmin=-1);"
   ]
  },
  {
   "cell_type": "code",
   "execution_count": null,
   "metadata": {},
   "outputs": [],
   "source": [
    "# Train regression model on training data \n",
    "regr = LogisticRegression()\n",
    "regr.fit(X_reduced_train[:,:202], y_train)\n",
    "\n",
    "# Prediction with test data\n",
    "pred = regr.predict(X_reduced_test)\n",
    "\n",
    "acc_test = accuracy_score(y_test, pred)\n",
    "fpr1, tpr1, thresholds1 = roc_curve(y_test, pred)\n",
    "roc_auc1 = auc(fpr1, tpr1)\n",
    "f1 = f1_score(y_test, pred)\n",
    "precision = precision_score(y_test, pred)\n",
    "recall = recall_score(y_test, pred)\n",
    "print(acc_test, precision, recall, f1, roc_auc1)"
   ]
  },
  {
   "cell_type": "markdown",
   "metadata": {},
   "source": [
    "### PCA Classification Tree"
   ]
  },
  {
   "cell_type": "markdown",
   "metadata": {},
   "source": [
    "#### Random Partition"
   ]
  },
  {
   "cell_type": "code",
   "execution_count": null,
   "metadata": {},
   "outputs": [],
   "source": [
    "pca3 = PCA()\n",
    "#Define X,y Split train/test dataset\n",
    "X_train, X_test, y_train, y_test = train_test_split(X, y, test_size=0.35, shuffle=True, random_state=123)\n",
    "\n",
    "# Scale the data\n",
    "X_reduced_train = pca3.fit_transform(scale(X_train))\n",
    "n = len(X_reduced_train)\n",
    "\n",
    "# 10-fold CV\n",
    "kf_10 = model_selection.KFold( n_splits=10, shuffle=True, random_state=1)\n",
    "classifier = DecisionTreeClassifier()\n",
    "mse = []\n",
    "\n",
    "# Calculate MSE with only the intercept (no principal components in regression)\n",
    "score = -1*model_selection.cross_val_score(classifier, np.ones((n,1)), y_train.ravel(), cv=kf_10, scoring='neg_mean_squared_error').mean()    \n",
    "mse.append(score)\n",
    "\n",
    "# Calculate MSE using CV for the 19 principle components, adding one component at the time.\n",
    "for i in np.arange(1, 150):\n",
    "    score = -1*model_selection.cross_val_score(classifier, X_reduced_train[:,:i], y_train.ravel(), cv=kf_10, scoring='neg_mean_squared_error').mean()\n",
    "    mse.append(score)"
   ]
  },
  {
   "cell_type": "code",
   "execution_count": null,
   "metadata": {},
   "outputs": [],
   "source": [
    "plt.figure(figsize=(35,15))\n",
    "plt.plot(np.array(mse), '-v')\n",
    "plt.xlabel('Number of principal components in decision tree')\n",
    "plt.ylabel('MSE')\n",
    "plt.title('Regime')\n",
    "plt.xticks(np.arange(0,300,10))\n",
    "plt.xlim(xmin=-1);"
   ]
  },
  {
   "cell_type": "code",
   "execution_count": null,
   "metadata": {},
   "outputs": [],
   "source": [
    "X_reduced_test = pca3.transform(scale(X_test))[:,:82]\n",
    "\n",
    "# Train regression model on training data \n",
    "classifier = DecisionTreeClassifier()\n",
    "classifier.fit(X_reduced_train[:,:82], y_train)\n",
    "\n",
    "# Prediction with test data\n",
    "pred = classifier.predict(X_reduced_test)\n",
    "\n",
    "acc_test = accuracy_score(y_test, pred)\n",
    "fpr3, tpr3, thresholds3 = roc_curve(y_test, pred)\n",
    "roc_auc3 = auc(fpr3, tpr3)\n",
    "f1 = f1_score(y_test, pred)\n",
    "precision = precision_score(y_test, pred)\n",
    "recall = recall_score(y_test, pred)\n",
    "print(acc_test, precision, recall, f1, roc_auc3)"
   ]
  },
  {
   "cell_type": "markdown",
   "metadata": {},
   "source": [
    "### PCA Random Forest"
   ]
  },
  {
   "cell_type": "code",
   "execution_count": null,
   "metadata": {},
   "outputs": [],
   "source": [
    "pca5 = PCA()\n",
    "#Define X,y Split train/test dataset\n",
    "X_train, X_test, y_train, y_test = train_test_split(X, y, test_size=0.35, shuffle=True, random_state=123)\n",
    "\n",
    "# Scale the data\n",
    "X_reduced_train = pca5.fit_transform(scale(X_train))\n",
    "n = len(X_reduced_train)\n",
    "\n",
    "# 10-fold CV\n",
    "kf_10 = model_selection.KFold( n_splits=10, shuffle=True, random_state=1)\n",
    "classifier = RandomForestClassifier(max_depth=40, random_state=0, n_estimators = 600)\n",
    "mse = []\n",
    "\n",
    "# Calculate MSE with only the intercept (no principal components in regression)\n",
    "score = -1*model_selection.cross_val_score(classifier, np.ones((n,1)), y_train.ravel(), cv=kf_10, scoring='neg_mean_squared_error').mean()    \n",
    "mse.append(score)\n",
    "\n",
    "# Calculate MSE using CV for the 19 principle components, adding one component at the time.\n",
    "for i in np.arange(1, 300):\n",
    "    score = -1*model_selection.cross_val_score(classifier, X_reduced_train[:,:i], y_train.ravel(), cv=kf_10, scoring='neg_mean_squared_error').mean()\n",
    "    mse.append(score)"
   ]
  },
  {
   "cell_type": "code",
   "execution_count": null,
   "metadata": {},
   "outputs": [],
   "source": [
    "plt.figure(figsize=(35,10))\n",
    "plt.plot(np.array(mse), '-v')\n",
    "plt.xlabel('Number of principal components in random forest')\n",
    "plt.ylabel('MSE')\n",
    "plt.title('Regime')\n",
    "plt.xticks(np.arange(0,300,10))\n",
    "plt.xlim(xmin=-1);"
   ]
  },
  {
   "cell_type": "code",
   "execution_count": null,
   "metadata": {},
   "outputs": [],
   "source": [
    "X_reduced_test = pca5.transform(scale(X_test))[:,:80]\n",
    "\n",
    "# Train regression model on training data \n",
    "classifier = RandomForestClassifier(max_depth=40, random_state=0, n_estimators = 600)\n",
    "classifier.fit(X_reduced_train[:,:80], y_train)\n",
    " \n",
    "\n",
    "# Prediction with test data\n",
    "pred = classifier.predict(X_reduced_test)\n",
    "\n",
    "acc_test = accuracy_score(y_test, pred)\n",
    "fpr5, tpr5, thresholds5 = roc_curve(y_test, pred)\n",
    "roc_auc5 = auc(fpr5, tpr5)\n",
    "f1 = f1_score(y_test, pred)\n",
    "precision = precision_score(y_test, pred)\n",
    "recall = recall_score(y_test, pred)\n",
    "print(acc_test, precision, recall, f1, roc_auc5)"
   ]
  },
  {
   "cell_type": "markdown",
   "metadata": {},
   "source": [
    "### 5. Try Feature Engineering to reduce dimenation and run the same 4 models"
   ]
  },
  {
   "cell_type": "markdown",
   "metadata": {},
   "source": [
    "### Combine text features based on business definition"
   ]
  },
  {
   "cell_type": "code",
   "execution_count": null,
   "metadata": {},
   "outputs": [],
   "source": [
    "# Transpose the data set\n",
    "data = data.T.reset_index()\n",
    "data.head(6)"
   ]
  },
  {
   "cell_type": "code",
   "execution_count": null,
   "metadata": {},
   "outputs": [],
   "source": [
    "# Read the combination instruction after feature engineering\n",
    "combine = pd.read_excel('combine_improve.xlsx', names=['order', 'index','description','combine','notes'])\n",
    "combine = combine[['index','combine']]\n",
    "combine.head(6)"
   ]
  },
  {
   "cell_type": "code",
   "execution_count": null,
   "metadata": {},
   "outputs": [],
   "source": [
    "# Merge the 2 data sets on original feature names\n",
    "topics = pd.merge(data, combine, on = 'index', how = 'left')\n",
    "topics['combine'][0:5] = ['','z_mkt_ret','z_three_factor','week','year']\n",
    "topics.head(6)"
   ]
  },
  {
   "cell_type": "code",
   "execution_count": null,
   "metadata": {},
   "outputs": [],
   "source": [
    "# Group by combination names to form a new data set - Intuition (without time lag)\n",
    "topics = topics.groupby(by='combine').sum().T\n",
    "topics.rename(columns = {'z_mkt_ret':'mkt_ret_regimes','z_three_factor':'three_factor_regimes'}, inplace = True)\n",
    "topics.drop(columns = [''], inplace=True)\n",
    "topics"
   ]
  },
  {
   "cell_type": "code",
   "execution_count": null,
   "metadata": {},
   "outputs": [],
   "source": [
    "# Add a 3-week lag\n",
    "predictor = topics.iloc[14:800,0:-4]\n",
    "response = topics.iloc[17:,-4:]\n",
    "response.index = response.index-14\n",
    "lag = pd.merge(predictor, response, on = response.index)\n",
    "lag.drop(columns = 'key_0', inplace = True)\n",
    "lag"
   ]
  },
  {
   "cell_type": "markdown",
   "metadata": {},
   "source": [
    "### Prepare the dataset"
   ]
  },
  {
   "cell_type": "code",
   "execution_count": null,
   "metadata": {},
   "outputs": [],
   "source": [
    "# the first two columns are y variables, the rest of the columns are predictors\n",
    "X=lag.iloc[:,:-4]\n",
    "y=lag['mkt_ret_regimes']"
   ]
  },
  {
   "cell_type": "code",
   "execution_count": null,
   "metadata": {},
   "outputs": [],
   "source": [
    "# Random Partition - 65% training data & 35% testing data\n",
    "X_train, X_test, y_train, y_test = train_test_split(X, y, test_size = 0.35, random_state = 123)"
   ]
  },
  {
   "cell_type": "markdown",
   "metadata": {},
   "source": [
    "### 5-1. Logstic Regression (with feature engineering data)"
   ]
  },
  {
   "cell_type": "code",
   "execution_count": null,
   "metadata": {},
   "outputs": [],
   "source": [
    "# LR with random split partition\n",
    "from sklearn.linear_model import LogisticRegression\n",
    "lr = LogisticRegression()\n",
    "lr.fit(X_train,y_train)\n",
    "y_pred_lr = lr.predict(X_test)\n",
    "print('accuracy: '+str(accuracy_score(y_test,y_pred_lr)))\n",
    "print('precision: '+str(precision_score(y_test,y_pred_lr)))\n",
    "print('recall: '+str(recall_score(y_test,y_pred_lr)))\n",
    "print('f1_score: '+str(f1_score(y_test,y_pred_lr)))\n",
    "print('roc_auc: '+str(roc_auc_score(y_test,y_pred_lr)))"
   ]
  },
  {
   "cell_type": "markdown",
   "metadata": {},
   "source": [
    "### 5-2. Classification Tree (with feature engineering data)"
   ]
  },
  {
   "cell_type": "code",
   "execution_count": null,
   "metadata": {},
   "outputs": [],
   "source": [
    "# Tree with random split partition\n",
    "from sklearn.tree import DecisionTreeClassifier\n",
    "tree = DecisionTreeClassifier()\n",
    "tree.fit(X_train,y_train)\n",
    "y_pred_tree = tree.predict(X_test)\n",
    "print('accuracy: '+str(accuracy_score(y_test,y_pred_tree)))\n",
    "print('precision: '+str(precision_score(y_test,y_pred_tree)))\n",
    "print('recall: '+str(recall_score(y_test,y_pred_tree)))\n",
    "print('f1_score: '+str(f1_score(y_test,y_pred_tree)))\n",
    "print('roc_auc: '+str(roc_auc_score(y_test,y_pred_tree)))"
   ]
  },
  {
   "cell_type": "markdown",
   "metadata": {},
   "source": [
    "### Random Forest (with feature engineering data)"
   ]
  },
  {
   "cell_type": "code",
   "execution_count": null,
   "metadata": {},
   "outputs": [],
   "source": [
    "# Ramdom Forest with random split partition\n",
    "from sklearn.ensemble import RandomForestClassifier\n",
    "rf = RandomForestClassifier(n_estimators=500)\n",
    "rf.fit(X_train,y_train)\n",
    "y_pred_rf = rf.predict(X_test)\n",
    "print('accuracy: '+str(accuracy_score(y_test,y_pred_rf)))\n",
    "print('precision: '+str(precision_score(y_test,y_pred_rf)))\n",
    "print('recall: '+str(recall_score(y_test,y_pred_rf)))\n",
    "print('f1_score: '+str(f1_score(y_test,y_pred_rf)))\n",
    "print('roc_auc: '+str(roc_auc_score(y_test,y_pred_rf)))"
   ]
  },
  {
   "cell_type": "markdown",
   "metadata": {},
   "source": [
    "### LASSO (with feature engineering data)"
   ]
  },
  {
   "cell_type": "code",
   "execution_count": null,
   "metadata": {},
   "outputs": [],
   "source": [
    "# Lasso with random split partition\n",
    "from sklearn.linear_model import Lasso\n",
    "lasso = Lasso(alpha=1.1)\n",
    "lasso.fit(X_train, y_train)\n",
    "y_pred_la = lasso.predict(X_test)\n",
    "lasso_class = [1 if i > 0.5 else 0 for i in y_pred_la]\n",
    "print('accuracy: '+str(accuracy_score(y_test,lasso_class)))\n",
    "print('precision: '+str(precision_score(y_test,lasso_class)))\n",
    "print('recall: '+str(recall_score(y_test,lasso_class)))\n",
    "print('f1_score: '+str(f1_score(y_test,lasso_class)))\n",
    "print('roc_auc: '+str(roc_auc_score(y_test,lasso_class)))"
   ]
  },
  {
   "cell_type": "code",
   "execution_count": null,
   "metadata": {},
   "outputs": [],
   "source": [
    "# see the important combined features/ topics\n",
    "lasso.coef_"
   ]
  },
  {
   "cell_type": "code",
   "execution_count": null,
   "metadata": {},
   "outputs": [],
   "source": [
    "# show the important features as dataframe\n",
    "df = pd.DataFrame(columns=[X_test.columns, lasso.coef_]).T.reset_index()\n",
    "df = df.rename(columns = {'combine':'topics','level_1':'coefficient'}).sort_values(by='coefficient',ascending = False)\n",
    "df"
   ]
  }
 ],
 "metadata": {
  "kernelspec": {
   "display_name": "Python 3",
   "language": "python",
   "name": "python3"
  },
  "language_info": {
   "codemirror_mode": {
    "name": "ipython",
    "version": 3
   },
   "file_extension": ".py",
   "mimetype": "text/x-python",
   "name": "python",
   "nbconvert_exporter": "python",
   "pygments_lexer": "ipython3",
   "version": "3.7.3"
  }
 },
 "nbformat": 4,
 "nbformat_minor": 2
}
